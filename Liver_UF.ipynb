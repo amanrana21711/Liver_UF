{
  "nbformat": 4,
  "nbformat_minor": 0,
  "metadata": {
    "colab": {
      "provenance": [],
      "authorship_tag": "ABX9TyNVuO9/nJNiUamtF7+jxTyP",
      "include_colab_link": true
    },
    "kernelspec": {
      "name": "python3",
      "display_name": "Python 3"
    },
    "language_info": {
      "name": "python"
    }
  },
  "cells": [
    {
      "cell_type": "markdown",
      "metadata": {
        "id": "view-in-github",
        "colab_type": "text"
      },
      "source": [
        "<a href=\"https://colab.research.google.com/github/amanrana21711/Liver_UF/blob/main/Liver_UF.ipynb\" target=\"_parent\"><img src=\"https://colab.research.google.com/assets/colab-badge.svg\" alt=\"Open In Colab\"/></a>"
      ]
    },
    {
      "cell_type": "code",
      "execution_count": 1,
      "metadata": {
        "colab": {
          "base_uri": "https://localhost:8080/"
        },
        "id": "h5pxlkjIst-J",
        "outputId": "cc2f9818-f0a0-4e18-9b5c-1dcf2fb41d32"
      },
      "outputs": [
        {
          "output_type": "stream",
          "name": "stdout",
          "text": [
            "Using device: cpu\n"
          ]
        }
      ],
      "source": [
        "import torch\n",
        "import numpy as np\n",
        "import pandas as pd\n",
        "from torch.utils.data import TensorDataset, DataLoader\n",
        "import torch.nn as nn\n",
        "import matplotlib.pyplot as plt\n",
        "from torch.optim.lr_scheduler import ReduceLROnPlateau\n",
        "device = torch.device(\"cuda\" if torch.cuda.is_available() else \"cpu\")\n",
        "print(\"Using device:\", device)"
      ]
    },
    {
      "cell_type": "code",
      "source": [
        "from google.colab import drive\n",
        "drive.mount('/content/drive')"
      ],
      "metadata": {
        "colab": {
          "base_uri": "https://localhost:8080/"
        },
        "id": "FhBJNLLTs648",
        "outputId": "8f61af33-5499-4f04-fd71-cf1342197e9d"
      },
      "execution_count": 2,
      "outputs": [
        {
          "output_type": "stream",
          "name": "stdout",
          "text": [
            "Drive already mounted at /content/drive; to attempt to forcibly remount, call drive.mount(\"/content/drive\", force_remount=True).\n"
          ]
        }
      ]
    },
    {
      "cell_type": "code",
      "source": [
        "data = pd.read_csv('/content/drive/MyDrive/liver_cirrhosis.csv')\n",
        "data['Status'] = data['Status'].map({'C': 0,'CL':1,'D':2})\n",
        "data['Drug'] = data['Drug'].map({'Placebo': 0,'D-penicillamine':1})\n",
        "data['Sex'] = data['Sex'].map({'M': 0,'F':1})\n",
        "data['Ascites'] = data['Ascites'].map({'N': 0,'Y':1})\n",
        "data['Hepatomegaly'] = data['Hepatomegaly'].map({'N': 0,'Y':1})\n",
        "data['Spiders'] = data['Spiders'].map({'N': 0,'Y':1})\n",
        "data['Edema'] = data['Edema'].map({'N': 0,'S':1,'Y':2})\n",
        "data['Stage'] = data['Stage'].map({1: 0,2:1, 3:2})\n",
        "\n",
        "inputs = data.drop('Stage',axis = 1).values\n",
        "outputs = data['Stage'].values\n",
        "\n",
        "\n",
        "\n",
        "# Converted the data so they can be made tensors\n"
      ],
      "metadata": {
        "id": "SVjVqeqqtVHz"
      },
      "execution_count": 3,
      "outputs": []
    },
    {
      "cell_type": "code",
      "source": [
        "from sklearn.preprocessing import StandardScaler\n",
        "scaler = StandardScaler()\n",
        "inputs = scaler.fit_transform(inputs)\n",
        "\n",
        "from sklearn.model_selection import train_test_split\n",
        "x_train,x_test,y_train,y_test = train_test_split(inputs,outputs,test_size = 0.2, shuffle = True)\n",
        "\n",
        "\n",
        "x_train = torch.FloatTensor(x_train)\n",
        "x_test = torch.FloatTensor(x_test)\n",
        "\n",
        "y_train = torch.LongTensor(y_train)\n",
        "y_test = torch.LongTensor(y_test)\n",
        "\n",
        "tensor_ds = TensorDataset(x_train,y_train)\n",
        "tensor_dl = DataLoader(tensor_ds, batch_size = 15,shuffle = True)\n",
        "\n",
        "val_tensor_ds = TensorDataset(x_test,y_test)\n",
        "val_tensor_dl = DataLoader(val_tensor_ds,batch_size = 15, shuffle = True)\n",
        "\n"
      ],
      "metadata": {
        "id": "5ty2np-YtVF5"
      },
      "execution_count": 4,
      "outputs": []
    },
    {
      "cell_type": "code",
      "source": [
        "class NN(nn.Module):\n",
        "  def __init__(self):\n",
        "    super().__init__()\n",
        "    self.linear1 = nn.Linear(18,36)\n",
        "    self.act1 = nn.ReLU()\n",
        "    self.linear2 = nn.Linear(36,72)\n",
        "    self.act2 = nn.ReLU()\n",
        "    self.linear3 = nn.Linear(72,3)\n",
        "  def forward(self,x):\n",
        "    x = self.linear1(x)\n",
        "    x = self.act1(x)\n",
        "    x = self.linear2(x)\n",
        "    x = self.act2(x)\n",
        "    x = self.linear3(x)\n",
        "    return x\n",
        "\n",
        "model = NN()\n",
        "\n",
        "loss_fun = nn.CrossEntropyLoss()\n",
        "opt = torch.optim.Adam(model.parameters(),lr = 0.0001)\n",
        "\n",
        "\n",
        "scheduler = ReduceLROnPlateau(opt, mode='min', factor = 0.5, patience = 5)\n",
        "\n",
        "ell = []\n",
        "ll = []\n",
        "epochl = []\n",
        "al = []\n"
      ],
      "metadata": {
        "id": "NOfDMFeNtVCA"
      },
      "execution_count": 5,
      "outputs": []
    },
    {
      "cell_type": "code",
      "source": [
        "for epoch in range(1000):\n",
        "  vl = 0\n",
        "  lc = 0\n",
        "  for xb,yb in tensor_dl:\n",
        "\n",
        "    preds = model(xb)\n",
        "\n",
        "    loss = loss_fun(preds,yb)\n",
        "\n",
        "    loss.backward()\n",
        "\n",
        "    opt.step()\n",
        "    opt.zero_grad()\n",
        "\n",
        "    lc += loss.item()\n",
        "\n",
        "  total = 0\n",
        "  correct = 0\n",
        "  for xx, yy in val_tensor_dl:\n",
        "    predictions = model(xx)\n",
        "    val_loss = loss_fun(predictions,yy)\n",
        "    vl += val_loss.item()\n",
        "    total += len(yy)\n",
        "    predicted = torch.argmax(predictions,dim=1)\n",
        "\n",
        "\n",
        "    correct += (predicted == yy).sum().item()\n",
        "\n",
        "\n",
        "  acc = 100*correct/float(total)\n",
        "\n",
        "  if epoch%100 ==99:\n",
        "    print(f\"At Epoch: {epoch} Loss is ->{loss.item()}\")\n",
        "    ll.append(loss.item())\n",
        "    epochl.append(epoch)\n",
        "\n",
        "    # accuracy\n",
        "    print(f'At Epoch: {epoch} Accuracy is -> {acc}')\n",
        "\n",
        "\n",
        "\n",
        "\n",
        ""
      ],
      "metadata": {
        "colab": {
          "base_uri": "https://localhost:8080/"
        },
        "id": "zuQVyFkRtU_6",
        "outputId": "bb87427f-5a19-4c9f-a4b1-bbc9e1b0f87e"
      },
      "execution_count": 6,
      "outputs": [
        {
          "output_type": "stream",
          "name": "stdout",
          "text": [
            "At Epoch: 99 Loss is ->0.15132273733615875\n",
            "At Epoch: 99 Accuracy is -> 85.26\n",
            "At Epoch: 199 Loss is ->0.33841031789779663\n",
            "At Epoch: 199 Accuracy is -> 87.58\n",
            "At Epoch: 299 Loss is ->0.036121759563684464\n",
            "At Epoch: 299 Accuracy is -> 88.56\n",
            "At Epoch: 399 Loss is ->0.023750441148877144\n",
            "At Epoch: 399 Accuracy is -> 89.0\n",
            "At Epoch: 499 Loss is ->0.33288151025772095\n",
            "At Epoch: 499 Accuracy is -> 89.32\n",
            "At Epoch: 599 Loss is ->0.09247972071170807\n",
            "At Epoch: 599 Accuracy is -> 89.72\n",
            "At Epoch: 699 Loss is ->0.022426113486289978\n",
            "At Epoch: 699 Accuracy is -> 89.56\n",
            "At Epoch: 799 Loss is ->0.04774948209524155\n",
            "At Epoch: 799 Accuracy is -> 89.82\n",
            "At Epoch: 899 Loss is ->0.22234900295734406\n",
            "At Epoch: 899 Accuracy is -> 89.96\n",
            "At Epoch: 999 Loss is ->0.25389987230300903\n",
            "At Epoch: 999 Accuracy is -> 90.08\n"
          ]
        }
      ]
    },
    {
      "cell_type": "code",
      "source": [
        "import matplotlib.pyplot as plt\n",
        "\n",
        "plt.plot(epochl,ll)\n"
      ],
      "metadata": {
        "colab": {
          "base_uri": "https://localhost:8080/",
          "height": 448
        },
        "id": "kme8hP4JtU94",
        "outputId": "1581fb3f-e542-44fd-8da7-9b205ea3a86e"
      },
      "execution_count": 9,
      "outputs": [
        {
          "output_type": "execute_result",
          "data": {
            "text/plain": [
              "141.05405957298353"
            ]
          },
          "metadata": {},
          "execution_count": 9
        },
        {
          "output_type": "display_data",
          "data": {
            "text/plain": [
              "<Figure size 640x480 with 1 Axes>"
            ],
            "image/png": "[encoded data removed]"
          },
          "metadata": {}
        }
      ]
    },
    {
      "cell_type": "code",
      "source": [
        "preds_new = model(x_test)\n",
        "to = torch.argmax(preds_new,dim=1)\n",
        "\n",
        "correct = 0\n",
        "incorrect = 0\n",
        "\n",
        "for i in range(len(preds_new)):\n",
        "  if to[i] == y_test[i]:\n",
        "    correct += 1\n",
        "  else:\n",
        "    incorrect += 1\n",
        "\n",
        "print(correct,incorrect,incorrect+correct)\n"
      ],
      "metadata": {
        "colab": {
          "base_uri": "https://localhost:8080/"
        },
        "id": "2doU4WGotU70",
        "outputId": "dfddd267-0e4e-44af-8256-13ffa706a1d3"
      },
      "execution_count": 11,
      "outputs": [
        {
          "output_type": "stream",
          "name": "stdout",
          "text": [
            "4504 496 5000\n"
          ]
        }
      ]
    },
    {
      "cell_type": "code",
      "source": [],
      "metadata": {
        "id": "p2J5_-8otU50"
      },
      "execution_count": null,
      "outputs": []
    },
    {
      "cell_type": "code",
      "source": [],
      "metadata": {
        "id": "0XFJWB-ctU3s"
      },
      "execution_count": null,
      "outputs": []
    },
    {
      "cell_type": "code",
      "source": [],
      "metadata": {
        "id": "j2bSaTdutU1V"
      },
      "execution_count": null,
      "outputs": []
    }
  ]
}